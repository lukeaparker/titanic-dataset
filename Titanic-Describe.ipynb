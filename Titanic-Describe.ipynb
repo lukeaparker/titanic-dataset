{
 "cells": [
  {
   "cell_type": "code",
   "execution_count": 1,
   "id": "3928eb76",
   "metadata": {},
   "outputs": [],
   "source": [
    "import numpy as np\n",
    "import pandas as pd\n",
    "import matplotlib.pyplot as plt\n",
    "\n",
    "data = np.array([1, 3, 5, 2, 3, 7, 8, 4, 10, 0, 6, 7, 3, 0, 3, 0, 5, 7, 10, 1, 4, 9, 3])"
   ]
  },
  {
   "cell_type": "code",
   "execution_count": 2,
   "id": "db7da5d3",
   "metadata": {},
   "outputs": [
    {
     "data": {
      "text/plain": [
       "4.391304347826087"
      ]
     },
     "execution_count": 2,
     "metadata": {},
     "output_type": "execute_result"
    }
   ],
   "source": [
    "def compute_mean(dataset):\n",
    "    # make a sum variable\n",
    "    sum = 0\n",
    "\n",
    "    # loop over the listand add up all total\n",
    "    for t in dataset:\n",
    "        sum = sum + t\n",
    "\n",
    "    # divide the total by the length of the list\n",
    "    mean = sum / len(dataset)\n",
    "\n",
    "    # return the mean\n",
    "    return mean\n",
    "\n",
    "compute_mean(data)\n",
    "\n",
    "np.mean(data)"
   ]
  },
  {
   "cell_type": "code",
   "execution_count": 3,
   "id": "7dbda7c3",
   "metadata": {},
   "outputs": [
    {
     "ename": "SyntaxError",
     "evalue": "invalid syntax (<ipython-input-3-8a361781f0be>, line 3)",
     "output_type": "error",
     "traceback": [
      "\u001b[0;36m  File \u001b[0;32m\"<ipython-input-3-8a361781f0be>\"\u001b[0;36m, line \u001b[0;32m3\u001b[0m\n\u001b[0;31m    if dataset % 2 != 0\u001b[0m\n\u001b[0m                       ^\u001b[0m\n\u001b[0;31mSyntaxError\u001b[0m\u001b[0;31m:\u001b[0m invalid syntax\n"
     ]
    }
   ],
   "source": [
    "def compute_median(dataset):\n",
    "    # check if the dataset is even or odd\n",
    "    if dataset % 2 != 0\n",
    "      # if odd, subtract the length by 1, divide in half, and then take the next element\n",
    "      median_index = (len(dataset) - 1)/2 + 1\n",
    "      median = dataset[median_index]\n",
    "    else\n",
    "      # otherwise, divide the dataset in half and take the mean of the two middling elements\n",
    "      left_index = len(dataset)/2 + 1\n",
    "      right_index = len(dataset)/2 - 1\n",
    "      median = (dataset(left_index) + dataset(right_index))/2\n",
    "    return median\n",
    "\n",
    "# NumPY\n",
    "np.median(dataset)\n"
   ]
  },
  {
   "cell_type": "code",
   "execution_count": null,
   "id": "711795f1",
   "metadata": {},
   "outputs": [],
   "source": [
    "import scipy.stats as stats\n",
    "\n",
    "mode = stats.mode(data)\n",
    "print(mode)"
   ]
  },
  {
   "cell_type": "code",
   "execution_count": null,
   "id": "46e923d0",
   "metadata": {},
   "outputs": [],
   "source": [
    "import pandas as pd\n",
    "\n",
    "df = pd.DataFrame([[10, 20, 30, 40], [7, 14, 21, 28], [55, 15, 8, 12],\n",
    "                   [15, 14, 1, 8], [7, 1, 1, 8], [5, 4, 9, 2]],\n",
    "                  columns=['Apple', 'Orange', 'Banana', 'Pear'],\n",
    "                  index=['Basket1', 'Basket2', 'Basket3', 'Basket4',\n",
    "                         'Basket5', 'Basket6'])\n",
    "\n",
    "print(\"\\n----------- Calculate Mean -----------\\n\")\n",
    "print(df.mean())\n",
    "\n",
    "print(\"\\n----------- Calculate Median -----------\\n\")\n",
    "print(df.median())\n",
    "\n",
    "print(\"\\n----------- Calculate Mode -----------\\n\")\n",
    "print(df.mode())\n",
    "print(df.describe()\n",
    "    )print(df.shape()\n"
   ]
  },
  {
   "cell_type": "code",
   "execution_count": 4,
   "id": "4f29e025",
   "metadata": {},
   "outputs": [
    {
     "data": {
      "text/html": [
       "<div>\n",
       "<style scoped>\n",
       "    .dataframe tbody tr th:only-of-type {\n",
       "        vertical-align: middle;\n",
       "    }\n",
       "\n",
       "    .dataframe tbody tr th {\n",
       "        vertical-align: top;\n",
       "    }\n",
       "\n",
       "    .dataframe thead th {\n",
       "        text-align: right;\n",
       "    }\n",
       "</style>\n",
       "<table border=\"1\" class=\"dataframe\">\n",
       "  <thead>\n",
       "    <tr style=\"text-align: right;\">\n",
       "      <th></th>\n",
       "      <th>PassengerId</th>\n",
       "      <th>Survived</th>\n",
       "      <th>Pclass</th>\n",
       "      <th>Name</th>\n",
       "      <th>Sex</th>\n",
       "      <th>Age</th>\n",
       "      <th>SibSp</th>\n",
       "      <th>Parch</th>\n",
       "      <th>Ticket</th>\n",
       "      <th>Fare</th>\n",
       "      <th>Cabin</th>\n",
       "      <th>Embarked</th>\n",
       "    </tr>\n",
       "  </thead>\n",
       "  <tbody>\n",
       "    <tr>\n",
       "      <th>0</th>\n",
       "      <td>1</td>\n",
       "      <td>0</td>\n",
       "      <td>3</td>\n",
       "      <td>Braund, Mr. Owen Harris</td>\n",
       "      <td>male</td>\n",
       "      <td>22.0</td>\n",
       "      <td>1</td>\n",
       "      <td>0</td>\n",
       "      <td>A/5 21171</td>\n",
       "      <td>7.2500</td>\n",
       "      <td>NaN</td>\n",
       "      <td>S</td>\n",
       "    </tr>\n",
       "    <tr>\n",
       "      <th>1</th>\n",
       "      <td>2</td>\n",
       "      <td>1</td>\n",
       "      <td>1</td>\n",
       "      <td>Cumings, Mrs. John Bradley (Florence Briggs Th...</td>\n",
       "      <td>female</td>\n",
       "      <td>38.0</td>\n",
       "      <td>1</td>\n",
       "      <td>0</td>\n",
       "      <td>PC 17599</td>\n",
       "      <td>71.2833</td>\n",
       "      <td>C85</td>\n",
       "      <td>C</td>\n",
       "    </tr>\n",
       "    <tr>\n",
       "      <th>2</th>\n",
       "      <td>3</td>\n",
       "      <td>1</td>\n",
       "      <td>3</td>\n",
       "      <td>Heikkinen, Miss. Laina</td>\n",
       "      <td>female</td>\n",
       "      <td>26.0</td>\n",
       "      <td>0</td>\n",
       "      <td>0</td>\n",
       "      <td>STON/O2. 3101282</td>\n",
       "      <td>7.9250</td>\n",
       "      <td>NaN</td>\n",
       "      <td>S</td>\n",
       "    </tr>\n",
       "    <tr>\n",
       "      <th>3</th>\n",
       "      <td>4</td>\n",
       "      <td>1</td>\n",
       "      <td>1</td>\n",
       "      <td>Futrelle, Mrs. Jacques Heath (Lily May Peel)</td>\n",
       "      <td>female</td>\n",
       "      <td>35.0</td>\n",
       "      <td>1</td>\n",
       "      <td>0</td>\n",
       "      <td>113803</td>\n",
       "      <td>53.1000</td>\n",
       "      <td>C123</td>\n",
       "      <td>S</td>\n",
       "    </tr>\n",
       "    <tr>\n",
       "      <th>4</th>\n",
       "      <td>5</td>\n",
       "      <td>0</td>\n",
       "      <td>3</td>\n",
       "      <td>Allen, Mr. William Henry</td>\n",
       "      <td>male</td>\n",
       "      <td>35.0</td>\n",
       "      <td>0</td>\n",
       "      <td>0</td>\n",
       "      <td>373450</td>\n",
       "      <td>8.0500</td>\n",
       "      <td>NaN</td>\n",
       "      <td>S</td>\n",
       "    </tr>\n",
       "  </tbody>\n",
       "</table>\n",
       "</div>"
      ],
      "text/plain": [
       "   PassengerId  Survived  Pclass  \\\n",
       "0            1         0       3   \n",
       "1            2         1       1   \n",
       "2            3         1       3   \n",
       "3            4         1       1   \n",
       "4            5         0       3   \n",
       "\n",
       "                                                Name     Sex   Age  SibSp  \\\n",
       "0                            Braund, Mr. Owen Harris    male  22.0      1   \n",
       "1  Cumings, Mrs. John Bradley (Florence Briggs Th...  female  38.0      1   \n",
       "2                             Heikkinen, Miss. Laina  female  26.0      0   \n",
       "3       Futrelle, Mrs. Jacques Heath (Lily May Peel)  female  35.0      1   \n",
       "4                           Allen, Mr. William Henry    male  35.0      0   \n",
       "\n",
       "   Parch            Ticket     Fare Cabin Embarked  \n",
       "0      0         A/5 21171   7.2500   NaN        S  \n",
       "1      0          PC 17599  71.2833   C85        C  \n",
       "2      0  STON/O2. 3101282   7.9250   NaN        S  \n",
       "3      0            113803  53.1000  C123        S  \n",
       "4      0            373450   8.0500   NaN        S  "
      ]
     },
     "execution_count": 4,
     "metadata": {},
     "output_type": "execute_result"
    }
   ],
   "source": [
    "import pandas as pd \n",
    "\n",
    "df = pd.read_csv('titanic.csv')\n",
    "df.head()\n",
    "df.shape()\n"
   ]
  },
  {
   "cell_type": "code",
   "execution_count": 7,
   "id": "7050d252",
   "metadata": {},
   "outputs": [
    {
     "name": "stdout",
     "output_type": "stream",
     "text": [
      "32.2042079685746\n",
      "14.4542\n",
      "0    8.05\n",
      "dtype: float64\n"
     ]
    },
    {
     "data": {
      "text/plain": [
       "array([[<AxesSubplot:title={'center':'Fare'}>]], dtype=object)"
      ]
     },
     "execution_count": 7,
     "metadata": {},
     "output_type": "execute_result"
    },
    {
     "data": {
      "image/png": "[encoded data removed]",
      "text/plain": [
       "<Figure size 432x288 with 1 Axes>"
      ]
     },
     "metadata": {
      "needs_background": "light"
     },
     "output_type": "display_data"
    },
    {
     "data": {
      "image/png": "[encoded data removed]",
      "text/plain": [
       "<Figure size 432x288 with 1 Axes>"
      ]
     },
     "metadata": {
      "needs_background": "light"
     },
     "output_type": "display_data"
    }
   ],
   "source": [
    "# Calculate Mean, Median, and Mode of passangers Fare \n",
    "print(df['Fare'].mean())\n",
    "print(df['Fare'].median())\n",
    "print(df['Fare'].mode())\n",
    "\n",
    "df.hist(column=\"Age\")\n",
    "df.hist(column=\"Fare\")"
   ]
  },
  {
   "cell_type": "code",
   "execution_count": 8,
   "id": "aeaa5709",
   "metadata": {},
   "outputs": [
    {
     "name": "stdout",
     "output_type": "stream",
     "text": [
      "80.0\n"
     ]
    }
   ],
   "source": []
  },
  {
   "cell_type": "code",
   "execution_count": 10,
   "id": "9c9691cc",
   "metadata": {},
   "outputs": [
    {
     "name": "stdout",
     "output_type": "stream",
     "text": [
      "80.0\n",
      "0.0\n"
     ]
    }
   ],
   "source": [
    "# Who was the oldest passenger aboard the ship? (Hint, .max(column))\n",
    "max_age = df['Age'].max()\n",
    "print(max_age)\n",
    "\n",
    "# How much did the cheapest ticket cost?\n",
    "min_cost = df['Fare'].min()\n",
    "print(min_cost)\n",
    "\n",
    "# Ticket fare range max - min\n",
    "range = (df['Fare'].min(), df['Fare'].max())\n",
    "\n"
   ]
  },
  {
   "cell_type": "code",
   "execution_count": 12,
   "id": "bdd8dbb6",
   "metadata": {},
   "outputs": [
    {
     "name": "stdout",
     "output_type": "stream",
     "text": [
      "Variance: 1.489795918367347\n",
      "Mean: 7.285714285714286\n",
      "Min: 4\n",
      "Max: 9\n",
      "Range: 5\n",
      "Variance: 458729763.47107434\n",
      "Mean: 242.27272727272728\n",
      "Min: -50349\n",
      "Max: 50023\n",
      "Range: 100372\n"
     ]
    }
   ],
   "source": [
    "variance_1 = [7,8,7,8,9,6,7,7,7,8,9,8,7,4]\n",
    "\n",
    "print(\"Variance:\", np.var(variance_1))\n",
    "print(\"Mean:\", np.mean(variance_1))\n",
    "print(\"Min:\", np.min(variance_1))\n",
    "print(\"Max:\", np.max(variance_1))\n",
    "print(\"Range:\", np.max(variance_1) - np.min(variance_1))\n",
    "\n",
    "variance_2 = [102,2,50023,30,3040,50,20,1,50,-304,-50349]\n",
    "\n",
    "print(\"Variance:\",np.var(variance_2))\n",
    "print(\"Mean:\", np.mean(variance_2))\n",
    "print(\"Min:\", np.min(variance_2))\n",
    "print(\"Max:\", np.max(variance_2))\n",
    "print(\"Range:\", np.max(variance_2) - np.min(variance_2))\n",
    "\n",
    "# Which series had had a higher variance?\n",
    "# \n",
    "\n"
   ]
  },
  {
   "cell_type": "code",
   "execution_count": 7,
   "id": "d125dbba",
   "metadata": {},
   "outputs": [
    {
     "name": "stdout",
     "output_type": "stream",
     "text": [
      "7.534136044547355\n",
      "21417.97757658445\n"
     ]
    }
   ],
   "source": [
    "\n",
    "import math \n",
    "import numpy as np\n",
    "\n",
    "variance_2 = [102,2,50023,30,3040,50,20,1,50,-304,-50349]\n",
    "\n",
    "\n",
    "def standard_deviation(series):\n",
    "  # Compute the mean of the series\n",
    "    mean = np.mean(series)\n",
    "    \n",
    "    # Find the squares of all the deviations from the mean\n",
    "    deviations = []\n",
    "    for s in series:\n",
    "        diff = abs(s - mean)\n",
    "        deviation = math.sqrt(diff)\n",
    "        deviations.append(deviation)\n",
    "    mean_deviation = np.mean(deviations)\n",
    "    std = math.sqrt(mean_deviation)\n",
    "    print(std)\n",
    "    print(np.std(series))\n",
    "    \n",
    "\n",
    "\n",
    "standard_deviation(variance_2)"
   ]
  },
  {
   "cell_type": "code",
   "execution_count": 11,
   "id": "f355910f",
   "metadata": {},
   "outputs": [
    {
     "data": {
      "text/plain": [
       "<matplotlib.lines.Line2D at 0x7fdac8be2b20>"
      ]
     },
     "execution_count": 11,
     "metadata": {},
     "output_type": "execute_result"
    },
    {
     "data": {
      "image/png": "[encoded data removed]",
      "text/plain": [
       "<Figure size 432x288 with 1 Axes>"
      ]
     },
     "metadata": {
      "needs_background": "light"
     },
     "output_type": "display_data"
    }
   ],
   "source": [
    "\n",
    "import numpy as np\n",
    "import pandas as pd\n",
    "import matplotlib.pyplot as plt\n",
    "\n",
    "\n",
    "df = pd.read_csv('titanic.csv')\n",
    "\n",
    "# Age\n",
    "plt.axvline(df.Age.mean()+df.Age.std(), color='k', linestyle='dashed', linewidth=1)\n",
    "plt.axvline(df.Age.mean()-df.Age.std(), color='k', linestyle='dashed', linewidth=1)\n",
    "# Fare\n",
    "plt.axvline(df.Fare.mean()+df.Fare.std(), color='k', linestyle='dashed', linewidth=1)\n",
    "plt.axvline(df.Fare.mean()-df.Fare.std(), color='k', linestyle='dashed', linewidth=1)"
   ]
  },
  {
   "cell_type": "code",
   "execution_count": 12,
   "id": "3f424e76",
   "metadata": {},
   "outputs": [
    {
     "data": {
      "text/plain": [
       "female    0.543351\n",
       "male     -0.543351\n",
       "dtype: float64"
      ]
     },
     "execution_count": 12,
     "metadata": {},
     "output_type": "execute_result"
    }
   ],
   "source": [
    "import pandas as pd\n",
    "import numpy as np\n",
    "import matplotlib.pyplot as plt\n",
    "import scipy.stats as stats\n",
    "\n",
    "df = pd.read_csv('titanic.csv')\n",
    "df.head()\n",
    "\n",
    "df['Survived'].corr(df['Age'])\n",
    "df['Sex'].str.get_dummies().corrwith(df['Survived']/df['Survived'].max())\n",
    "\n",
    "df.corr()\n"
   ]
  },
  {
   "cell_type": "code",
   "execution_count": null,
   "id": "d127070f",
   "metadata": {},
   "outputs": [],
   "source": []
  },
  {
   "cell_type": "code",
   "execution_count": 10,
   "id": "163c033a",
   "metadata": {},
   "outputs": [
    {
     "data": {
      "image/png": "[encoded data removed]",
      "text/plain": [
       "<Figure size 432x288 with 2 Axes>"
      ]
     },
     "metadata": {
      "needs_background": "light"
     },
     "output_type": "display_data"
    }
   ],
   "source": [
    "import seaborn as sn\n",
    "import matplotlib.pyplot as plt\n",
    "import pandas as pd\n",
    "\n",
    "sn.heatmap(df.corr(), annot=True)\n",
    "plt.show()\n",
    "\n",
    "\n",
    "\n",
    "\n"
   ]
  },
  {
   "cell_type": "code",
   "execution_count": null,
   "id": "ac3f1f67",
   "metadata": {},
   "outputs": [],
   "source": []
  },
  {
   "cell_type": "code",
   "execution_count": null,
   "id": "e49a26da",
   "metadata": {},
   "outputs": [],
   "source": []
  },
  {
   "cell_type": "code",
   "execution_count": null,
   "id": "c9da670c",
   "metadata": {},
   "outputs": [],
   "source": []
  },
  {
   "cell_type": "code",
   "execution_count": null,
   "id": "112c2e14",
   "metadata": {},
   "outputs": [],
   "source": []
  }
 ],
 "metadata": {
  "kernelspec": {
   "display_name": "Python 3",
   "language": "python",
   "name": "python3"
  },
  "language_info": {
   "codemirror_mode": {
    "name": "ipython",
    "version": 3
   },
   "file_extension": ".py",
   "mimetype": "text/x-python",
   "name": "python",
   "nbconvert_exporter": "python",
   "pygments_lexer": "ipython3",
   "version": "3.8.8"
  }
 },
 "nbformat": 4,
 "nbformat_minor": 5
}
